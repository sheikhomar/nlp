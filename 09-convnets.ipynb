{
 "cells": [
  {
   "cell_type": "markdown",
   "metadata": {},
   "source": [
    "# ConvNets for NLP"
   ]
  },
  {
   "cell_type": "markdown",
   "metadata": {},
   "source": [
    "Issues with recurrent networks:\n",
    "\n",
    "\n",
    "For simple classification problems, you may want to identify that there is a certain word or phrase in a document. However, recurrent network go from left to right (or right to left for a bidirectional RNN). So a phrase vector cannot just capture simple phrases like \"my birth\"\n",
    "\n",
    "A sentence model based on a recurrent neural network is sensitive to word order, but it has a bias towards the latest words that it takes as input. This gives the RNN excellent performance at language modelling, but it is suboptimal for remembering at once the ngrams further back in the input sentence.\n",
    "\n",
    "\n",
    "Similarly, a recursive neural network is sensitive to\n",
    "word order but has a bias towards the topmost\n",
    "nodes in the tree; shallower trees mitigate this effect to some extent\n"
   ]
  },
  {
   "cell_type": "code",
   "execution_count": null,
   "metadata": {},
   "outputs": [],
   "source": []
  }
 ],
 "metadata": {
  "kernelspec": {
   "display_name": "Python 3",
   "language": "python",
   "name": "python3"
  },
  "language_info": {
   "codemirror_mode": {
    "name": "ipython",
    "version": 3
   },
   "file_extension": ".py",
   "mimetype": "text/x-python",
   "name": "python",
   "nbconvert_exporter": "python",
   "pygments_lexer": "ipython3",
   "version": "3.7.1"
  }
 },
 "nbformat": 4,
 "nbformat_minor": 2
}
