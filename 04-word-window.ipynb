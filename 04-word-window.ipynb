{
 "cells": [
  {
   "cell_type": "markdown",
   "metadata": {},
   "source": [
    "# Word Window Classification"
   ]
  },
  {
   "cell_type": "code",
   "execution_count": 2,
   "metadata": {},
   "outputs": [],
   "source": [
    "import numpy as np\n",
    "import matplotlib.pyplot as plt\n",
    "\n",
    "# Inline plotting\n",
    "%matplotlib inline"
   ]
  },
  {
   "cell_type": "markdown",
   "metadata": {},
   "source": [
    "- What is word window classification?\n",
    "- Why is it useful?\n",
    "- How can we update fine-tune word vectors for classification?\n",
    "- "
   ]
  },
  {
   "cell_type": "markdown",
   "metadata": {},
   "source": [
    "## Standard Classification Task"
   ]
  },
  {
   "cell_type": "markdown",
   "metadata": {},
   "source": [
    "Suppose we have a training set $\\mathbf{T} = \\{ (\\mathbf{x}_1, y_1), (\\mathbf{x}_2, y_2), \\cdots, (\\mathbf{x}_N, y_N)  \\}$ where $\\mathbf{x} \\in \\mathbb{R}^{d}$. "
   ]
  },
  {
   "cell_type": "markdown",
   "metadata": {},
   "source": [
    "Let us assume we have $K$ classes i.e., $y_i \\in { c_1, c_2, \\cdots, c_K }$."
   ]
  },
  {
   "cell_type": "markdown",
   "metadata": {},
   "source": [
    "Given an unseen sample $x_{*}$, our goal is to predict its label $y_{*}$:\n",
    "$$\n",
    "p(y_{*} \\mid x_{*}) = \\frac{\\exp(\\mathbf{w}_y \\mathbf{x}_{*})}{\\sum_{k=1}^{K} \\exp(\\mathbf{w}_k \\mathbf{x}_{*})}\n",
    "$$\n",
    "\n",
    "where $\\mathbf{W} \\in \\mathbb{R}^{K \\times d}$ is the parameters of the classifiers and $\\mathbf{w}_y$ corresponds to the $y$th row of the matrix $\\mathbf{W}$."
   ]
  },
  {
   "cell_type": "code",
   "execution_count": 28,
   "metadata": {},
   "outputs": [
    {
     "data": {
      "text/plain": [
       "<matplotlib.legend.Legend at 0x7f894bfdfda0>"
      ]
     },
     "execution_count": 28,
     "metadata": {},
     "output_type": "execute_result"
    },
    {
     "data": {
      "image/png": "[encoded data removed]",
      "text/plain": [
       "<Figure size 432x288 with 1 Axes>"
      ]
     },
     "metadata": {
      "needs_background": "light"
     },
     "output_type": "display_data"
    }
   ],
   "source": [
    "x = np.arange(-1, 6, 0.005)\n",
    "fig, ax = plt.subplots()\n",
    "\n",
    "ax.plot(x, np.exp(x), label='$e^{x}$')\n",
    "ax.legend()"
   ]
  },
  {
   "cell_type": "markdown",
   "metadata": {},
   "source": [
    "## Objective Function for Training"
   ]
  },
  {
   "cell_type": "markdown",
   "metadata": {},
   "source": [
    "For each training sample $(\\mathbf{x}_i, y_i)$, our objective is to maximise the probability of the correct class $y$ i.e., $p(y_i \\mid \\mathbf{x}_i)$"
   ]
  },
  {
   "cell_type": "markdown",
   "metadata": {},
   "source": [
    "To maximise $p(y_i \\mid \\mathbf{x}_i)$, we can minimise the negative log probability of that class:"
   ]
  },
  {
   "cell_type": "markdown",
   "metadata": {},
   "source": [
    "$$\n",
    "- \\log  p(y \\mid \\mathbf{x}) = - \\log \\left[ \\frac{\\exp(\\mathbf{w}_y \\mathbf{x})}{\\sum_{k=1}^{K} \\exp(\\mathbf{w}_k \\mathbf{x})} \\right]\n",
    "$$"
   ]
  },
  {
   "cell_type": "markdown",
   "metadata": {},
   "source": [
    "Notice that $p(y \\mid \\mathbf{x})$ is a value between zero and one."
   ]
  },
  {
   "cell_type": "code",
   "execution_count": 33,
   "metadata": {},
   "outputs": [
    {
     "data": {
      "text/plain": [
       "<matplotlib.legend.Legend at 0x7f894bcca278>"
      ]
     },
     "execution_count": 33,
     "metadata": {},
     "output_type": "execute_result"
    },
    {
     "data": {
      "image/png": "[encoded data removed]",
      "text/plain": [
       "<Figure size 432x288 with 1 Axes>"
      ]
     },
     "metadata": {
      "needs_background": "light"
     },
     "output_type": "display_data"
    }
   ],
   "source": [
    "x = np.arange(0.005, 1, 0.005)\n",
    "fig, ax = plt.subplots()\n",
    "\n",
    "ax.plot(x, -np.log(x), label='$-\\log(x)$')\n",
    "ax.legend()"
   ]
  },
  {
   "cell_type": "markdown",
   "metadata": {},
   "source": [
    "### Cross entropy objective function"
   ]
  },
  {
   "cell_type": "markdown",
   "metadata": {},
   "source": [
    "The cross entropy objective function over all the training samples is:"
   ]
  },
  {
   "cell_type": "markdown",
   "metadata": {},
   "source": [
    "$$\n",
    "\\mathcal{J}(\\theta) = \\frac{1}{N} \\sum_{i=1}^{N} - \\log \\left[ \\frac{\\exp(\\mathbf{w}_y \\mathbf{x})}{\\sum_{k=1}^{K} \\exp(\\mathbf{w}_k \\mathbf{x})} \\right] + \\lambda \\sum_{t} \\theta_t^2\n",
    "$$"
   ]
  },
  {
   "cell_type": "markdown",
   "metadata": {},
   "source": [
    "The last term is the regularisation term, which pushes the parameters $\\theta$ to be very small. This avoids overfitting."
   ]
  },
  {
   "cell_type": "markdown",
   "metadata": {},
   "source": [
    "In general, $\\theta$ usually consists of columns of $\\mathbf{W}$:\n",
    "$$\n",
    "\\theta = \\begin{bmatrix}\\mathbf{W}_1 \\\\\\mathbf{W}_2 \\\\ \\vdots \\\\ \\mathbf{W}_d\n",
    "\\end{bmatrix}\n",
    "$$"
   ]
  },
  {
   "cell_type": "markdown",
   "metadata": {},
   "source": [
    "To optimise our objective function $\\mathcal{J}$, we take the derivative of $\\mathcal{J}$ with respect to $\\theta$ to update the weights."
   ]
  },
  {
   "cell_type": "markdown",
   "metadata": {},
   "source": [
    "In general, $\\theta$ usually consists of columns of $\\mathbf{W}$:\n",
    "$$\n",
    "\\nabla_\\theta \\mathcal{J}(\\theta) = \\begin{bmatrix}\n",
    "\\nabla \\mathbf{W}_1 \\\\\n",
    "\\nabla \\mathbf{W}_2 \\\\\n",
    "\\vdots \\\\\n",
    "\\nabla \\mathbf{W}_d\n",
    "\\end{bmatrix} \\in \\mathbb{R}^{Kd}\n",
    "$$"
   ]
  },
  {
   "cell_type": "markdown",
   "metadata": {},
   "source": [
    "## When to use end-to-end training?"
   ]
  },
  {
   "cell_type": "markdown",
   "metadata": {},
   "source": [
    "In Deep Learning NLP, we want to learn both the classifier parameters $\\mathbf{W}$ and the word vectors in an end-to-end fashion."
   ]
  },
  {
   "cell_type": "markdown",
   "metadata": {},
   "source": [
    "If we have a small training data set, we don't want to train word vectors because it may not generalise well. It is better to use word2vec or GloVe and keep them fixed. \n",
    "\n",
    "However, if the training set is large, it may work better to train word vectors to the task i.e., train the word vectors as part of the overall objective."
   ]
  },
  {
   "cell_type": "markdown",
   "metadata": {},
   "source": [
    "## Window Classification"
   ]
  },
  {
   "cell_type": "markdown",
   "metadata": {},
   "source": [
    "Window classification is about classifying or assigning a label to a word in its context of neighbouring words."
   ]
  },
  {
   "cell_type": "markdown",
   "metadata": {},
   "source": [
    "<img src=\"figures/window-classifier-example.png\" width=\"350\" />"
   ]
  },
  {
   "cell_type": "markdown",
   "metadata": {},
   "source": [
    "## Named Entity Recognition (NER)"
   ]
  },
  {
   "cell_type": "markdown",
   "metadata": {},
   "source": [
    "In named-entity recognition, we want to classify the center word of a window into four classes:\n",
    "- Person\n",
    "- Location\n",
    "- Organisation\n",
    "- Misc (none of the above)"
   ]
  },
  {
   "cell_type": "markdown",
   "metadata": {},
   "source": [
    "<img src=\"figures/named-entity-recognition-example.png\" width=\"400\" />\n",
    "\n",
    "\n",
    "\n",
    "\n",
    "\n"
   ]
  },
  {
   "cell_type": "markdown",
   "metadata": {},
   "source": []
  },
  {
   "cell_type": "markdown",
   "metadata": {},
   "source": [
    "## Softmax Classifier"
   ]
  },
  {
   "cell_type": "markdown",
   "metadata": {},
   "source": [
    "The simples word window classifier is a softmax/logistic regression classifier."
   ]
  },
  {
   "cell_type": "markdown",
   "metadata": {},
   "source": [
    "The **main issue** with the the softmax classifier is that it only gives a linear decision boundary in the original space. With little data this may be a good thing. However, with large amount of data this is limiting."
   ]
  },
  {
   "cell_type": "markdown",
   "metadata": {},
   "source": [
    "<img src=\"figures/softmax-linear-decision-boundary.png\" width=\"300\" />\n",
    "\n",
    "\n",
    "\n",
    "\n",
    "\n",
    "\n",
    "\n",
    "\n"
   ]
  },
  {
   "cell_type": "markdown",
   "metadata": {},
   "source": [
    "Neural networks can fit much more complex functions to our training data and gives nonlinear decision boundaries. "
   ]
  },
  {
   "cell_type": "markdown",
   "metadata": {},
   "source": [
    "## Neural Network Classifier"
   ]
  },
  {
   "cell_type": "markdown",
   "metadata": {},
   "source": [
    "<img src=\"figures/neuron.png\" width=\"400\" />\n",
    "\n",
    "\n",
    "\n",
    "\n",
    "\n",
    "\n",
    "\n",
    "\n",
    "\n",
    "\n",
    "\n",
    "\n"
   ]
  },
  {
   "cell_type": "markdown",
   "metadata": {},
   "source": [
    "## Max-Margin Loss"
   ]
  },
  {
   "cell_type": "markdown",
   "metadata": {},
   "source": [
    "The max-margin loss function is often more robust than cross entropy loss function."
   ]
  },
  {
   "cell_type": "markdown",
   "metadata": {},
   "source": [
    "Assume we want to classify whether the center word is a Location in the sentence:\n",
    "\n",
    "*\"Not all museums in Paris are amazing.\"*\n",
    "\n",
    "From this sentence we can create following windows of size 2:\n",
    "- <font color=\"red\"><em>\"Not all <b>museums</b> in Paris\"</em></font>\n",
    "- <font color=\"red\"><em>\"all museums <b>in</b> Paris are\"</em></font>\n",
    "- <font color=\"green\"><em>\"museums in <b>Paris</b> are amazing\"</em></font>\n",
    "\n",
    "In this case, there is only one true window which is the one with **Paris** in its center:\n",
    "\n",
    "<font color=\"green\"><em>\"museums in <b>Paris</b> are amazing\"</em></font>\n",
    "\n",
    "All the other windows are said to be \"corrupt\" because they don't have a named entity location in their center."
   ]
  },
  {
   "cell_type": "markdown",
   "metadata": {},
   "source": [
    "We want to give a high score to windows where the center word is a location (positive class) and low scores to corrupt/incorrect windows where the center word is not a location (negative class)."
   ]
  },
  {
   "cell_type": "markdown",
   "metadata": {},
   "source": [
    "<img src=\"figures/max-margin-loss-objective.png\" width=\"400\" />\n",
    "\n",
    "\n",
    "\n",
    "\n",
    "\n",
    "\n",
    "\n",
    "\n"
   ]
  },
  {
   "cell_type": "markdown",
   "metadata": {},
   "source": [
    "The number 1 is called the margin. It can be a hyperparameter."
   ]
  },
  {
   "cell_type": "markdown",
   "metadata": {},
   "source": [
    "The max-margin attempts to increase the distance between the closest points to the decision boundary."
   ]
  },
  {
   "cell_type": "markdown",
   "metadata": {},
   "source": [
    "This is similar to what Support Vector Machine is doing."
   ]
  }
 ],
 "metadata": {
  "kernelspec": {
   "display_name": "Python 3",
   "language": "python",
   "name": "python3"
  },
  "language_info": {
   "codemirror_mode": {
    "name": "ipython",
    "version": 3
   },
   "file_extension": ".py",
   "mimetype": "text/x-python",
   "name": "python",
   "nbconvert_exporter": "python",
   "pygments_lexer": "ipython3",
   "version": "3.7.1"
  }
 },
 "nbformat": 4,
 "nbformat_minor": 2
}
