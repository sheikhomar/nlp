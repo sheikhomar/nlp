{
 "cells": [
  {
   "cell_type": "markdown",
   "metadata": {},
   "source": [
    "# Dependency Parsing"
   ]
  },
  {
   "cell_type": "code",
   "execution_count": null,
   "metadata": {},
   "outputs": [],
   "source": [
    "import numpy as np\n",
    "import matplotlib.pyplot as plt\n",
    "\n",
    "# Inline plotting\n",
    "%matplotlib inline"
   ]
  },
  {
   "cell_type": "markdown",
   "metadata": {},
   "source": [
    "Dependency parsing is the task of analyzing the structure of sentences in (human) languages."
   ]
  },
  {
   "cell_type": "markdown",
   "metadata": {},
   "source": [
    "Why study the structure of sentences? Because we want to be able to interpret language correctly. Humans communicate complex ideas by composing words together into bigger units to convey complex meanings. We need to know what is connected to what."
   ]
  },
  {
   "cell_type": "markdown",
   "metadata": {},
   "source": [
    "There are two key tools to solve this problem:\n",
    "- Constituency Grammar\n",
    "- Dependency Structure/Grammar (very popular today)"
   ]
  },
  {
   "cell_type": "markdown",
   "metadata": {},
   "source": [
    "## Constituency Grammar"
   ]
  },
  {
   "cell_type": "markdown",
   "metadata": {},
   "source": [
    "Constituency grammar is a way to describe the syntax of a language or the structure of sentences. The idea is to use phrase structure grammers (or context-free grammers) to organize words into nested constituents. A grammer is a set of rules that allows us to generate valid sentences of a language."
   ]
  },
  {
   "cell_type": "markdown",
   "metadata": {},
   "source": [
    "<img src=\"figures/chomsky.png\" width=\"400\" />\n",
    "\n",
    "\n",
    "\n"
   ]
  },
  {
   "cell_type": "markdown",
   "metadata": {},
   "source": [
    "## Dependency Structure"
   ]
  },
  {
   "cell_type": "markdown",
   "metadata": {},
   "source": [
    "The other tool, Dependency Structure, describes which words depend on which other words. When one word $w_1$ is dependent on another word $w_1$, then $w_1$ modifies or is an argument of $w_2$."
   ]
  },
  {
   "cell_type": "markdown",
   "metadata": {},
   "source": [
    "Suppose we have a sentence:\n",
    "\n",
    "\"Look for the large barking dog by the door in a crate.\"\n",
    "\n",
    "- The word *barking* is dependent on *dog* because *barking* modifies *dog*. \n",
    "- The word *large* is dependent on *dog* since it modifies *dog*.\n"
   ]
  },
  {
   "cell_type": "markdown",
   "metadata": {},
   "source": [
    "Normally, we indicate dependencies by arrows."
   ]
  },
  {
   "cell_type": "markdown",
   "metadata": {},
   "source": [
    "<img src=\"figures/dependency-structure-example.png\" width=\"500\" />\n",
    "\n",
    "\n",
    "\n"
   ]
  },
  {
   "cell_type": "markdown",
   "metadata": {},
   "source": [
    "### Ambiguous Sentences"
   ]
  },
  {
   "cell_type": "markdown",
   "metadata": {},
   "source": [
    "An ambiguous sentence can be thought about in terms of different dependencies:"
   ]
  },
  {
   "cell_type": "markdown",
   "metadata": {},
   "source": [
    "<img src=\"figures/dependency-structure-ambiguity.png\" width=\"500\" />\n",
    "\n",
    "\n",
    "\n",
    "\n",
    "\n",
    "\n",
    "\n"
   ]
  },
  {
   "cell_type": "markdown",
   "metadata": {},
   "source": [
    "### Universal Dependencies"
   ]
  },
  {
   "cell_type": "markdown",
   "metadata": {},
   "source": [
    "Universal Dependencies treebank is a database of sentences where people have manually annotated sentences into dependency graphs. "
   ]
  },
  {
   "cell_type": "markdown",
   "metadata": {},
   "source": [
    "<img src=\"figures/ud-treebank-example.png\" width=\"700\" />\n",
    "\n",
    "\n",
    "\n",
    "\n",
    "\n",
    "\n",
    "\n",
    "\n",
    "Source: [SETS treebank](http://bionlp-www.utu.fi/dep_search/) search maintained by the University of Turku"
   ]
  },
  {
   "cell_type": "markdown",
   "metadata": {},
   "source": [
    "Building a treebank seems a lot slower and less useful than building a grammar that can generate infinite number of sentences.\n",
    "\n",
    "A treebank has many advantages:\n",
    "- Reusability of the labor (grammars cannot be reused because everyone makes up their own)\n",
    "  - Many parsers, part-of-speech taggers, etc. can be built on it\n",
    "  - They are valuable resource for linguistics because they give examples of how a language is spoken and syntactic analysis of sentences\n",
    "- Broad coverage, not just a few intuitions\n",
    "- Frequencies and distributional information\n",
    "  - E.g. co-occurence of words\n",
    "- More crucially, it provides a way to evaluate systems because it provides ground-truth gold standard data\n",
    "\n"
   ]
  },
  {
   "cell_type": "markdown",
   "metadata": {},
   "source": [
    "## Dependency Syntax"
   ]
  },
  {
   "cell_type": "markdown",
   "metadata": {},
   "source": [
    "The theory of dependency syntax postulates that syntactic structure consists of relations between lexical items (i.e., words), normally binary asymmetric relations (i.e., we draw arrows) called dependencies.\n",
    "\n",
    "The arrows/dependencies are commonly typed with the name of grammatical relations such as subject, prepositional object, apposition, etc. This is referred to as **typed dependency grammar**."
   ]
  },
  {
   "cell_type": "markdown",
   "metadata": {},
   "source": [
    "<img src=\"figures/dependency-structure-example-2.png\" width=\"400\" />\n",
    "\n",
    "\n",
    "\n",
    "\n",
    "\n",
    "\n",
    "\n",
    "\n",
    "\n",
    "\n",
    "\n",
    "\n",
    "\n",
    "\n"
   ]
  },
  {
   "cell_type": "markdown",
   "metadata": {},
   "source": [
    "The arrow connects a **head** (or governor/superior/regent) with a **dependent** (or modifier/inferior/subordinate)."
   ]
  },
  {
   "cell_type": "markdown",
   "metadata": {},
   "source": [
    "Usually, dependencies form a tree which means that they have certain graph theorical properties:\n",
    "- they have a single head (root node). \n",
    "- connected\n",
    "- they are acyclic\n"
   ]
  }
 ],
 "metadata": {
  "kernelspec": {
   "display_name": "Python 3",
   "language": "python",
   "name": "python3"
  },
  "language_info": {
   "codemirror_mode": {
    "name": "ipython",
    "version": 3
   },
   "file_extension": ".py",
   "mimetype": "text/x-python",
   "name": "python",
   "nbconvert_exporter": "python",
   "pygments_lexer": "ipython3",
   "version": "3.7.1"
  }
 },
 "nbformat": 4,
 "nbformat_minor": 2
}
