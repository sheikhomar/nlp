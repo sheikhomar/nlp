{
 "cells": [
  {
   "cell_type": "markdown",
   "metadata": {},
   "source": [
    "# Gensim Tutorial"
   ]
  },
  {
   "cell_type": "markdown",
   "metadata": {},
   "source": [
    "Gensim is smaller than the Natural Language Toolkit (NLTK) package.\n",
    "- Under the LGPL license"
   ]
  },
  {
   "cell_type": "markdown",
   "metadata": {},
   "source": [
    "## Features\n",
    "- Automatic text summarisation (`gensim.summarization`)\n",
    "- Extensions from word2vec to doc2vec\n",
    "- Classification with word2vec through likelihood scores\n",
    "- Algorithms are memory-independent meaning that these algorithms can process corpus sizes that are larger than the available RAM\n",
    "  - Use of `smart_open` not to read files into memory\n",
    "- The steaming API allow us to plug in own own input corpus\n",
    "- The transformation API allows us to extend algorithms\n",
    "- Implementation of popular algorithms:\n",
    "  - word2vec\n",
    "  - Latent Semantic Analysis\n",
    "  - Latent Dirichlet Allocation (LDA)\n",
    "  - Random Projections (RP)\n",
    "  - Hierarchical Dirichlet Process (HDP)\n",
    "- Allows us to run some algorithms on a cluster of computers (distributed computing)"
   ]
  },
  {
   "cell_type": "markdown",
   "metadata": {},
   "source": [
    "## Alternative tools\n",
    "\n",
    "- Natural Language Toolkit (NLTK):\n",
    "- Vowpal Wabbit: \n",
    "- Mallet: Java-based package for statistical natural language processing\n",
    "- Scikit-Learn: limited text processing capabilities\n",
    "- Spark"
   ]
  }
 ],
 "metadata": {
  "kernelspec": {
   "display_name": "Python 3",
   "language": "python",
   "name": "python3"
  },
  "language_info": {
   "codemirror_mode": {
    "name": "ipython",
    "version": 3
   },
   "file_extension": ".py",
   "mimetype": "text/x-python",
   "name": "python",
   "nbconvert_exporter": "python",
   "pygments_lexer": "ipython3",
   "version": "3.7.2"
  }
 },
 "nbformat": 4,
 "nbformat_minor": 2
}
